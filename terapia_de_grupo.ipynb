{
 "cells": [
  {
   "cell_type": "markdown",
   "metadata": {},
   "source": [
    "# Telegram Group Chat analysis\n",
    "\n",
    "I've often felt I was the most talkative among my closest friends. Since I'm a scientist, I decided to put this to the test using a few Data Science techniques. The results I found were pretty Interesting"
   ]
  },
  {
   "cell_type": "code",
   "execution_count": 1,
   "metadata": {},
   "outputs": [],
   "source": [
    "# taking care of dependencies I'll be using\n",
    "import json\n",
    "import pandas as pd\n",
    "import unidecode\n",
    "from wordcloud import WordCloud\n",
    "from matplotlib import pyplot as plt\n",
    "import plotly.express as px\n",
    "from datetime import datetime\n",
    "import numpy as np\n",
    "import matplotlib\n",
    "import re\n",
    "import seaborn as sns\n",
    "from itertools import groupby\n",
    "from collections import defaultdict"
   ]
  },
  {
   "cell_type": "markdown",
   "metadata": {},
   "source": [
    "###### Telegram allows you to download your personal chat history in json format. I won't be sharing mine for obvious reasons, but this notebook should be easily applicable to your personal / group chat data."
   ]
  },
  {
   "cell_type": "code",
   "execution_count": 2,
   "metadata": {},
   "outputs": [],
   "source": [
    "#loading up the result.json data file just as it was provided by Telegram\n",
    "data_file= 'data/terapia_de_grupo/result.json'\n",
    "\n",
    "with open(data_file) as json_file:\n",
    "    data = json.load(json_file)"
   ]
  },
  {
   "cell_type": "markdown",
   "metadata": {},
   "source": [
    "#### Let's do some exploratory analysis for this data..."
   ]
  },
  {
   "cell_type": "code",
   "execution_count": 3,
   "metadata": {},
   "outputs": [
    {
     "data": {
      "text/plain": [
       "dict_keys(['name', 'type', 'id', 'messages'])"
      ]
     },
     "execution_count": 3,
     "metadata": {},
     "output_type": "execute_result"
    }
   ],
   "source": [
    "data.keys()"
   ]
  },
  {
   "cell_type": "code",
   "execution_count": 4,
   "metadata": {},
   "outputs": [
    {
     "data": {
      "text/plain": [
       "'private_group'"
      ]
     },
     "execution_count": 4,
     "metadata": {},
     "output_type": "execute_result"
    }
   ],
   "source": [
    "data['type']"
   ]
  },
  {
   "cell_type": "code",
   "execution_count": 5,
   "metadata": {},
   "outputs": [
    {
     "data": {
      "text/plain": [
       "'Terapia de grupo'"
      ]
     },
     "execution_count": 5,
     "metadata": {},
     "output_type": "execute_result"
    }
   ],
   "source": [
    "data['name']"
   ]
  },
  {
   "cell_type": "code",
   "execution_count": 6,
   "metadata": {},
   "outputs": [
    {
     "data": {
      "text/plain": [
       "22732"
      ]
     },
     "execution_count": 6,
     "metadata": {},
     "output_type": "execute_result"
    }
   ],
   "source": [
    "# now, let's see how many messages we've got, then...\n",
    "len(data['messages'])"
   ]
  },
  {
   "cell_type": "markdown",
   "metadata": {},
   "source": [
    "###### For obvious reasons I've obfuscated `from` and `from_id`"
   ]
  },
  {
   "cell_type": "code",
   "execution_count": 7,
   "metadata": {},
   "outputs": [
    {
     "data": {
      "text/plain": [
       "[{'id': 9369,\n",
       "  'type': 'service',\n",
       "  'date': '2018-02-24T10:44:08',\n",
       "  'actor': 'Alice',\n",
       "  'actor_id': 1,\n",
       "  'action': 'create_group',\n",
       "  'title': 'Terapia de grupo',\n",
       "  'members': ['Alice', 'Bob', 'Trudy'],\n",
       "  'text': ''},\n",
       " {'id': 9370,\n",
       "  'type': 'message',\n",
       "  'date': '2018-02-24T10:44:15',\n",
       "  'from': 'Alice',\n",
       "  'from_id': 1,\n",
       "  'file': 'stickers/sticker.webp',\n",
       "  'thumbnail': 'stickers/sticker.webp_thumb.jpg',\n",
       "  'media_type': 'sticker',\n",
       "  'sticker_emoji': '💝',\n",
       "  'width': 512,\n",
       "  'height': 512,\n",
       "  'text': ''},\n",
       " {'id': 9371,\n",
       "  'type': 'message',\n",
       "  'date': '2018-02-24T10:44:25',\n",
       "  'from': 'Trudy',\n",
       "  'from_id': 3,\n",
       "  'text': 'Jajajaja'}]"
      ]
     },
     "execution_count": 7,
     "metadata": {},
     "output_type": "execute_result"
    }
   ],
   "source": [
    "# then let's see what a message looks like\n",
    "data['messages'][:3]\n"
   ]
  },
  {
   "cell_type": "markdown",
   "metadata": {},
   "source": [
    "#### At a glance this seems to be a pretty simple structure:\n",
    "\n",
    "* Some messages might have an `action`, like that first element that identifies the `create_group` action\n",
    "* Messages have an `actor` and it's associated `actor_id`\n",
    "* There's an `id` that's correlative to my personal messages (yeah, I've checked: I've got 9000 accumulated messages previous to the creation of this group)\n",
    "* We are interested in the messages that have `type` equal to `message`, and within those we are interested in the `text` field\n",
    "* We might also consider those which have `media_type` since they might provide insight on the kind of emotes my friends use\n",
    "* There might be some other message types, like `thumbnail` and `link`, so we'll need some further exploration"
   ]
  },
  {
   "cell_type": "markdown",
   "metadata": {},
   "source": [
    "#### Moving on..."
   ]
  },
  {
   "cell_type": "code",
   "execution_count": 8,
   "metadata": {},
   "outputs": [
    {
     "data": {
      "text/html": [
       "<div>\n",
       "<style scoped>\n",
       "    .dataframe tbody tr th:only-of-type {\n",
       "        vertical-align: middle;\n",
       "    }\n",
       "\n",
       "    .dataframe tbody tr th {\n",
       "        vertical-align: top;\n",
       "    }\n",
       "\n",
       "    .dataframe thead th {\n",
       "        text-align: right;\n",
       "    }\n",
       "</style>\n",
       "<table border=\"1\" class=\"dataframe\">\n",
       "  <thead>\n",
       "    <tr style=\"text-align: right;\">\n",
       "      <th></th>\n",
       "      <th>id</th>\n",
       "      <th>type</th>\n",
       "      <th>date</th>\n",
       "      <th>actor</th>\n",
       "      <th>actor_id</th>\n",
       "      <th>action</th>\n",
       "      <th>title</th>\n",
       "      <th>members</th>\n",
       "      <th>text</th>\n",
       "      <th>from</th>\n",
       "      <th>...</th>\n",
       "      <th>width</th>\n",
       "      <th>height</th>\n",
       "      <th>mime_type</th>\n",
       "      <th>duration_seconds</th>\n",
       "      <th>via_bot</th>\n",
       "      <th>photo</th>\n",
       "      <th>reply_to_message_id</th>\n",
       "      <th>forwarded_from</th>\n",
       "      <th>message_id</th>\n",
       "      <th>edited</th>\n",
       "    </tr>\n",
       "  </thead>\n",
       "  <tbody>\n",
       "    <tr>\n",
       "      <th>13463</th>\n",
       "      <td>29020</td>\n",
       "      <td>message</td>\n",
       "      <td>2020-05-23T21:02:36</td>\n",
       "      <td>NaN</td>\n",
       "      <td>NaN</td>\n",
       "      <td>NaN</td>\n",
       "      <td>NaN</td>\n",
       "      <td>NaN</td>\n",
       "      <td>[{'type': 'link', 'text': 'https://www.youtube...</td>\n",
       "      <td>Bob</td>\n",
       "      <td>...</td>\n",
       "      <td>NaN</td>\n",
       "      <td>NaN</td>\n",
       "      <td>NaN</td>\n",
       "      <td>NaN</td>\n",
       "      <td>NaN</td>\n",
       "      <td>NaN</td>\n",
       "      <td>NaN</td>\n",
       "      <td>NaN</td>\n",
       "      <td>NaN</td>\n",
       "      <td>NaN</td>\n",
       "    </tr>\n",
       "    <tr>\n",
       "      <th>13910</th>\n",
       "      <td>29468</td>\n",
       "      <td>message</td>\n",
       "      <td>2020-05-25T15:52:26</td>\n",
       "      <td>NaN</td>\n",
       "      <td>NaN</td>\n",
       "      <td>NaN</td>\n",
       "      <td>NaN</td>\n",
       "      <td>NaN</td>\n",
       "      <td></td>\n",
       "      <td>Bob</td>\n",
       "      <td>...</td>\n",
       "      <td>750.0</td>\n",
       "      <td>749.0</td>\n",
       "      <td>NaN</td>\n",
       "      <td>NaN</td>\n",
       "      <td>NaN</td>\n",
       "      <td>photos/photo_703@25-05-2020_15-52-26.jpg</td>\n",
       "      <td>NaN</td>\n",
       "      <td>NaN</td>\n",
       "      <td>NaN</td>\n",
       "      <td>NaN</td>\n",
       "    </tr>\n",
       "    <tr>\n",
       "      <th>12756</th>\n",
       "      <td>28306</td>\n",
       "      <td>message</td>\n",
       "      <td>2020-05-16T18:16:08</td>\n",
       "      <td>NaN</td>\n",
       "      <td>NaN</td>\n",
       "      <td>NaN</td>\n",
       "      <td>NaN</td>\n",
       "      <td>NaN</td>\n",
       "      <td>Resulta que yo tenía Ubuntu 16.04 con ZSH y un...</td>\n",
       "      <td>Trudy</td>\n",
       "      <td>...</td>\n",
       "      <td>NaN</td>\n",
       "      <td>NaN</td>\n",
       "      <td>NaN</td>\n",
       "      <td>NaN</td>\n",
       "      <td>NaN</td>\n",
       "      <td>NaN</td>\n",
       "      <td>NaN</td>\n",
       "      <td>NaN</td>\n",
       "      <td>NaN</td>\n",
       "      <td>NaN</td>\n",
       "    </tr>\n",
       "    <tr>\n",
       "      <th>15851</th>\n",
       "      <td>31427</td>\n",
       "      <td>message</td>\n",
       "      <td>2020-06-03T18:58:17</td>\n",
       "      <td>NaN</td>\n",
       "      <td>NaN</td>\n",
       "      <td>NaN</td>\n",
       "      <td>NaN</td>\n",
       "      <td>NaN</td>\n",
       "      <td>Eso va a estar ahí al fuego al menos hasta mañana</td>\n",
       "      <td>Bob</td>\n",
       "      <td>...</td>\n",
       "      <td>NaN</td>\n",
       "      <td>NaN</td>\n",
       "      <td>NaN</td>\n",
       "      <td>NaN</td>\n",
       "      <td>NaN</td>\n",
       "      <td>NaN</td>\n",
       "      <td>NaN</td>\n",
       "      <td>NaN</td>\n",
       "      <td>NaN</td>\n",
       "      <td>NaN</td>\n",
       "    </tr>\n",
       "    <tr>\n",
       "      <th>7838</th>\n",
       "      <td>23225</td>\n",
       "      <td>message</td>\n",
       "      <td>2020-04-07T16:29:42</td>\n",
       "      <td>NaN</td>\n",
       "      <td>NaN</td>\n",
       "      <td>NaN</td>\n",
       "      <td>NaN</td>\n",
       "      <td>NaN</td>\n",
       "      <td>y cuanta gente tienen laburando ahi adentro</td>\n",
       "      <td>Alice</td>\n",
       "      <td>...</td>\n",
       "      <td>NaN</td>\n",
       "      <td>NaN</td>\n",
       "      <td>NaN</td>\n",
       "      <td>NaN</td>\n",
       "      <td>NaN</td>\n",
       "      <td>NaN</td>\n",
       "      <td>NaN</td>\n",
       "      <td>NaN</td>\n",
       "      <td>NaN</td>\n",
       "      <td>NaN</td>\n",
       "    </tr>\n",
       "  </tbody>\n",
       "</table>\n",
       "<p>5 rows × 25 columns</p>\n",
       "</div>"
      ],
      "text/plain": [
       "          id     type                 date actor  actor_id action title  \\\n",
       "13463  29020  message  2020-05-23T21:02:36   NaN       NaN    NaN   NaN   \n",
       "13910  29468  message  2020-05-25T15:52:26   NaN       NaN    NaN   NaN   \n",
       "12756  28306  message  2020-05-16T18:16:08   NaN       NaN    NaN   NaN   \n",
       "15851  31427  message  2020-06-03T18:58:17   NaN       NaN    NaN   NaN   \n",
       "7838   23225  message  2020-04-07T16:29:42   NaN       NaN    NaN   NaN   \n",
       "\n",
       "      members                                               text   from  ...  \\\n",
       "13463     NaN  [{'type': 'link', 'text': 'https://www.youtube...    Bob  ...   \n",
       "13910     NaN                                                       Bob  ...   \n",
       "12756     NaN  Resulta que yo tenía Ubuntu 16.04 con ZSH y un...  Trudy  ...   \n",
       "15851     NaN  Eso va a estar ahí al fuego al menos hasta mañana    Bob  ...   \n",
       "7838      NaN        y cuanta gente tienen laburando ahi adentro  Alice  ...   \n",
       "\n",
       "       width height mime_type duration_seconds via_bot  \\\n",
       "13463    NaN    NaN       NaN              NaN     NaN   \n",
       "13910  750.0  749.0       NaN              NaN     NaN   \n",
       "12756    NaN    NaN       NaN              NaN     NaN   \n",
       "15851    NaN    NaN       NaN              NaN     NaN   \n",
       "7838     NaN    NaN       NaN              NaN     NaN   \n",
       "\n",
       "                                          photo  reply_to_message_id  \\\n",
       "13463                                       NaN                  NaN   \n",
       "13910  photos/photo_703@25-05-2020_15-52-26.jpg                  NaN   \n",
       "12756                                       NaN                  NaN   \n",
       "15851                                       NaN                  NaN   \n",
       "7838                                        NaN                  NaN   \n",
       "\n",
       "      forwarded_from  message_id edited  \n",
       "13463            NaN         NaN    NaN  \n",
       "13910            NaN         NaN    NaN  \n",
       "12756            NaN         NaN    NaN  \n",
       "15851            NaN         NaN    NaN  \n",
       "7838             NaN         NaN    NaN  \n",
       "\n",
       "[5 rows x 25 columns]"
      ]
     },
     "execution_count": 8,
     "metadata": {},
     "output_type": "execute_result"
    }
   ],
   "source": [
    "# loading `messages` to a DataFrame\n",
    "df= pd.DataFrame(data['messages'])\n",
    "df.sample(5)"
   ]
  },
  {
   "cell_type": "markdown",
   "metadata": {},
   "source": [
    "#### But upon further analysis, we can see the message structure is not that trivial"
   ]
  },
  {
   "cell_type": "code",
   "execution_count": 9,
   "metadata": {},
   "outputs": [
    {
     "data": {
      "text/plain": [
       "Index(['id', 'type', 'date', 'actor', 'actor_id', 'action', 'title', 'members',\n",
       "       'text', 'from', 'from_id', 'file', 'thumbnail', 'media_type',\n",
       "       'sticker_emoji', 'width', 'height', 'mime_type', 'duration_seconds',\n",
       "       'via_bot', 'photo', 'reply_to_message_id', 'forwarded_from',\n",
       "       'message_id', 'edited'],\n",
       "      dtype='object')"
      ]
     },
     "execution_count": 9,
     "metadata": {},
     "output_type": "execute_result"
    }
   ],
   "source": [
    "df.keys()"
   ]
  },
  {
   "cell_type": "markdown",
   "metadata": {},
   "source": [
    "##### Apparently there are only two types of message\n",
    "* `service`\n",
    "* `message`"
   ]
  },
  {
   "cell_type": "code",
   "execution_count": 10,
   "metadata": {},
   "outputs": [
    {
     "data": {
      "text/plain": [
       "array(['service', 'message'], dtype=object)"
      ]
     },
     "execution_count": 10,
     "metadata": {},
     "output_type": "execute_result"
    }
   ],
   "source": [
    "df['type'].unique()"
   ]
  },
  {
   "cell_type": "markdown",
   "metadata": {},
   "source": [
    "##### In case you are curious about those tagged `service` "
   ]
  },
  {
   "cell_type": "code",
   "execution_count": 11,
   "metadata": {},
   "outputs": [
    {
     "data": {
      "text/html": [
       "<div>\n",
       "<style scoped>\n",
       "    .dataframe tbody tr th:only-of-type {\n",
       "        vertical-align: middle;\n",
       "    }\n",
       "\n",
       "    .dataframe tbody tr th {\n",
       "        vertical-align: top;\n",
       "    }\n",
       "\n",
       "    .dataframe thead th {\n",
       "        text-align: right;\n",
       "    }\n",
       "</style>\n",
       "<table border=\"1\" class=\"dataframe\">\n",
       "  <thead>\n",
       "    <tr style=\"text-align: right;\">\n",
       "      <th></th>\n",
       "      <th>id</th>\n",
       "      <th>type</th>\n",
       "      <th>date</th>\n",
       "      <th>actor</th>\n",
       "      <th>actor_id</th>\n",
       "      <th>action</th>\n",
       "      <th>title</th>\n",
       "      <th>members</th>\n",
       "      <th>text</th>\n",
       "      <th>from</th>\n",
       "      <th>...</th>\n",
       "      <th>width</th>\n",
       "      <th>height</th>\n",
       "      <th>mime_type</th>\n",
       "      <th>duration_seconds</th>\n",
       "      <th>via_bot</th>\n",
       "      <th>photo</th>\n",
       "      <th>reply_to_message_id</th>\n",
       "      <th>forwarded_from</th>\n",
       "      <th>message_id</th>\n",
       "      <th>edited</th>\n",
       "    </tr>\n",
       "  </thead>\n",
       "  <tbody>\n",
       "    <tr>\n",
       "      <th>0</th>\n",
       "      <td>9369</td>\n",
       "      <td>service</td>\n",
       "      <td>2018-02-24T10:44:08</td>\n",
       "      <td>Alice</td>\n",
       "      <td>1.0</td>\n",
       "      <td>create_group</td>\n",
       "      <td>Terapia de grupo</td>\n",
       "      <td>[Alice, Bob, Trudy]</td>\n",
       "      <td></td>\n",
       "      <td>NaN</td>\n",
       "      <td>...</td>\n",
       "      <td>NaN</td>\n",
       "      <td>NaN</td>\n",
       "      <td>NaN</td>\n",
       "      <td>NaN</td>\n",
       "      <td>NaN</td>\n",
       "      <td>NaN</td>\n",
       "      <td>NaN</td>\n",
       "      <td>NaN</td>\n",
       "      <td>NaN</td>\n",
       "      <td>NaN</td>\n",
       "    </tr>\n",
       "    <tr>\n",
       "      <th>34</th>\n",
       "      <td>9425</td>\n",
       "      <td>service</td>\n",
       "      <td>2018-02-24T23:00:55</td>\n",
       "      <td>Bob</td>\n",
       "      <td>2.0</td>\n",
       "      <td>edit_group_photo</td>\n",
       "      <td>NaN</td>\n",
       "      <td>NaN</td>\n",
       "      <td></td>\n",
       "      <td>NaN</td>\n",
       "      <td>...</td>\n",
       "      <td>640.0</td>\n",
       "      <td>640.0</td>\n",
       "      <td>NaN</td>\n",
       "      <td>NaN</td>\n",
       "      <td>NaN</td>\n",
       "      <td>photos/photo_3@24-02-2018_23-00-55.jpg</td>\n",
       "      <td>NaN</td>\n",
       "      <td>NaN</td>\n",
       "      <td>NaN</td>\n",
       "      <td>NaN</td>\n",
       "    </tr>\n",
       "    <tr>\n",
       "      <th>141</th>\n",
       "      <td>12248</td>\n",
       "      <td>service</td>\n",
       "      <td>2019-05-24T20:49:16</td>\n",
       "      <td>Bob</td>\n",
       "      <td>2.0</td>\n",
       "      <td>invite_members</td>\n",
       "      <td>NaN</td>\n",
       "      <td>[bot]</td>\n",
       "      <td></td>\n",
       "      <td>NaN</td>\n",
       "      <td>...</td>\n",
       "      <td>NaN</td>\n",
       "      <td>NaN</td>\n",
       "      <td>NaN</td>\n",
       "      <td>NaN</td>\n",
       "      <td>NaN</td>\n",
       "      <td>NaN</td>\n",
       "      <td>NaN</td>\n",
       "      <td>NaN</td>\n",
       "      <td>NaN</td>\n",
       "      <td>NaN</td>\n",
       "    </tr>\n",
       "    <tr>\n",
       "      <th>1265</th>\n",
       "      <td>15719</td>\n",
       "      <td>service</td>\n",
       "      <td>2020-02-21T09:16:57</td>\n",
       "      <td>Bob</td>\n",
       "      <td>2.0</td>\n",
       "      <td>pin_message</td>\n",
       "      <td>NaN</td>\n",
       "      <td>NaN</td>\n",
       "      <td></td>\n",
       "      <td>NaN</td>\n",
       "      <td>...</td>\n",
       "      <td>NaN</td>\n",
       "      <td>NaN</td>\n",
       "      <td>NaN</td>\n",
       "      <td>NaN</td>\n",
       "      <td>NaN</td>\n",
       "      <td>NaN</td>\n",
       "      <td>NaN</td>\n",
       "      <td>NaN</td>\n",
       "      <td>15717.0</td>\n",
       "      <td>NaN</td>\n",
       "    </tr>\n",
       "    <tr>\n",
       "      <th>1300</th>\n",
       "      <td>15754</td>\n",
       "      <td>service</td>\n",
       "      <td>2020-02-21T09:37:53</td>\n",
       "      <td>Bob</td>\n",
       "      <td>2.0</td>\n",
       "      <td>remove_members</td>\n",
       "      <td>NaN</td>\n",
       "      <td>[bot]</td>\n",
       "      <td></td>\n",
       "      <td>NaN</td>\n",
       "      <td>...</td>\n",
       "      <td>NaN</td>\n",
       "      <td>NaN</td>\n",
       "      <td>NaN</td>\n",
       "      <td>NaN</td>\n",
       "      <td>NaN</td>\n",
       "      <td>NaN</td>\n",
       "      <td>NaN</td>\n",
       "      <td>NaN</td>\n",
       "      <td>NaN</td>\n",
       "      <td>NaN</td>\n",
       "    </tr>\n",
       "    <tr>\n",
       "      <th>1307</th>\n",
       "      <td>15761</td>\n",
       "      <td>service</td>\n",
       "      <td>2020-02-21T10:19:56</td>\n",
       "      <td>Alice</td>\n",
       "      <td>1.0</td>\n",
       "      <td>invite_members</td>\n",
       "      <td>NaN</td>\n",
       "      <td>[Eve]</td>\n",
       "      <td></td>\n",
       "      <td>NaN</td>\n",
       "      <td>...</td>\n",
       "      <td>NaN</td>\n",
       "      <td>NaN</td>\n",
       "      <td>NaN</td>\n",
       "      <td>NaN</td>\n",
       "      <td>NaN</td>\n",
       "      <td>NaN</td>\n",
       "      <td>NaN</td>\n",
       "      <td>NaN</td>\n",
       "      <td>NaN</td>\n",
       "      <td>NaN</td>\n",
       "    </tr>\n",
       "    <tr>\n",
       "      <th>2675</th>\n",
       "      <td>17269</td>\n",
       "      <td>service</td>\n",
       "      <td>2020-03-03T23:27:49</td>\n",
       "      <td>Bob</td>\n",
       "      <td>2.0</td>\n",
       "      <td>invite_members</td>\n",
       "      <td>NaN</td>\n",
       "      <td>[Book Download Bot]</td>\n",
       "      <td></td>\n",
       "      <td>NaN</td>\n",
       "      <td>...</td>\n",
       "      <td>NaN</td>\n",
       "      <td>NaN</td>\n",
       "      <td>NaN</td>\n",
       "      <td>NaN</td>\n",
       "      <td>NaN</td>\n",
       "      <td>NaN</td>\n",
       "      <td>NaN</td>\n",
       "      <td>NaN</td>\n",
       "      <td>NaN</td>\n",
       "      <td>NaN</td>\n",
       "    </tr>\n",
       "    <tr>\n",
       "      <th>2694</th>\n",
       "      <td>17290</td>\n",
       "      <td>service</td>\n",
       "      <td>2020-03-03T23:30:05</td>\n",
       "      <td>Bob</td>\n",
       "      <td>2.0</td>\n",
       "      <td>remove_members</td>\n",
       "      <td>NaN</td>\n",
       "      <td>[Book Download Bot]</td>\n",
       "      <td></td>\n",
       "      <td>NaN</td>\n",
       "      <td>...</td>\n",
       "      <td>NaN</td>\n",
       "      <td>NaN</td>\n",
       "      <td>NaN</td>\n",
       "      <td>NaN</td>\n",
       "      <td>NaN</td>\n",
       "      <td>NaN</td>\n",
       "      <td>NaN</td>\n",
       "      <td>NaN</td>\n",
       "      <td>NaN</td>\n",
       "      <td>NaN</td>\n",
       "    </tr>\n",
       "    <tr>\n",
       "      <th>14741</th>\n",
       "      <td>30299</td>\n",
       "      <td>service</td>\n",
       "      <td>2020-05-29T00:54:00</td>\n",
       "      <td>Bob</td>\n",
       "      <td>2.0</td>\n",
       "      <td>invite_members</td>\n",
       "      <td>NaN</td>\n",
       "      <td>[Book Download Bot]</td>\n",
       "      <td></td>\n",
       "      <td>NaN</td>\n",
       "      <td>...</td>\n",
       "      <td>NaN</td>\n",
       "      <td>NaN</td>\n",
       "      <td>NaN</td>\n",
       "      <td>NaN</td>\n",
       "      <td>NaN</td>\n",
       "      <td>NaN</td>\n",
       "      <td>NaN</td>\n",
       "      <td>NaN</td>\n",
       "      <td>NaN</td>\n",
       "      <td>NaN</td>\n",
       "    </tr>\n",
       "    <tr>\n",
       "      <th>14742</th>\n",
       "      <td>30300</td>\n",
       "      <td>service</td>\n",
       "      <td>2020-05-29T00:55:06</td>\n",
       "      <td>Bob</td>\n",
       "      <td>2.0</td>\n",
       "      <td>remove_members</td>\n",
       "      <td>NaN</td>\n",
       "      <td>[Book Download Bot]</td>\n",
       "      <td></td>\n",
       "      <td>NaN</td>\n",
       "      <td>...</td>\n",
       "      <td>NaN</td>\n",
       "      <td>NaN</td>\n",
       "      <td>NaN</td>\n",
       "      <td>NaN</td>\n",
       "      <td>NaN</td>\n",
       "      <td>NaN</td>\n",
       "      <td>NaN</td>\n",
       "      <td>NaN</td>\n",
       "      <td>NaN</td>\n",
       "      <td>NaN</td>\n",
       "    </tr>\n",
       "  </tbody>\n",
       "</table>\n",
       "<p>10 rows × 25 columns</p>\n",
       "</div>"
      ],
      "text/plain": [
       "          id     type                 date  actor  actor_id            action  \\\n",
       "0       9369  service  2018-02-24T10:44:08  Alice       1.0      create_group   \n",
       "34      9425  service  2018-02-24T23:00:55    Bob       2.0  edit_group_photo   \n",
       "141    12248  service  2019-05-24T20:49:16    Bob       2.0    invite_members   \n",
       "1265   15719  service  2020-02-21T09:16:57    Bob       2.0       pin_message   \n",
       "1300   15754  service  2020-02-21T09:37:53    Bob       2.0    remove_members   \n",
       "1307   15761  service  2020-02-21T10:19:56  Alice       1.0    invite_members   \n",
       "2675   17269  service  2020-03-03T23:27:49    Bob       2.0    invite_members   \n",
       "2694   17290  service  2020-03-03T23:30:05    Bob       2.0    remove_members   \n",
       "14741  30299  service  2020-05-29T00:54:00    Bob       2.0    invite_members   \n",
       "14742  30300  service  2020-05-29T00:55:06    Bob       2.0    remove_members   \n",
       "\n",
       "                  title              members text from  ...  width height  \\\n",
       "0      Terapia de grupo  [Alice, Bob, Trudy]       NaN  ...    NaN    NaN   \n",
       "34                  NaN                  NaN       NaN  ...  640.0  640.0   \n",
       "141                 NaN                [bot]       NaN  ...    NaN    NaN   \n",
       "1265                NaN                  NaN       NaN  ...    NaN    NaN   \n",
       "1300                NaN                [bot]       NaN  ...    NaN    NaN   \n",
       "1307                NaN                [Eve]       NaN  ...    NaN    NaN   \n",
       "2675                NaN  [Book Download Bot]       NaN  ...    NaN    NaN   \n",
       "2694                NaN  [Book Download Bot]       NaN  ...    NaN    NaN   \n",
       "14741               NaN  [Book Download Bot]       NaN  ...    NaN    NaN   \n",
       "14742               NaN  [Book Download Bot]       NaN  ...    NaN    NaN   \n",
       "\n",
       "      mime_type duration_seconds via_bot  \\\n",
       "0           NaN              NaN     NaN   \n",
       "34          NaN              NaN     NaN   \n",
       "141         NaN              NaN     NaN   \n",
       "1265        NaN              NaN     NaN   \n",
       "1300        NaN              NaN     NaN   \n",
       "1307        NaN              NaN     NaN   \n",
       "2675        NaN              NaN     NaN   \n",
       "2694        NaN              NaN     NaN   \n",
       "14741       NaN              NaN     NaN   \n",
       "14742       NaN              NaN     NaN   \n",
       "\n",
       "                                        photo  reply_to_message_id  \\\n",
       "0                                         NaN                  NaN   \n",
       "34     photos/photo_3@24-02-2018_23-00-55.jpg                  NaN   \n",
       "141                                       NaN                  NaN   \n",
       "1265                                      NaN                  NaN   \n",
       "1300                                      NaN                  NaN   \n",
       "1307                                      NaN                  NaN   \n",
       "2675                                      NaN                  NaN   \n",
       "2694                                      NaN                  NaN   \n",
       "14741                                     NaN                  NaN   \n",
       "14742                                     NaN                  NaN   \n",
       "\n",
       "      forwarded_from  message_id edited  \n",
       "0                NaN         NaN    NaN  \n",
       "34               NaN         NaN    NaN  \n",
       "141              NaN         NaN    NaN  \n",
       "1265             NaN     15717.0    NaN  \n",
       "1300             NaN         NaN    NaN  \n",
       "1307             NaN         NaN    NaN  \n",
       "2675             NaN         NaN    NaN  \n",
       "2694             NaN         NaN    NaN  \n",
       "14741            NaN         NaN    NaN  \n",
       "14742            NaN         NaN    NaN  \n",
       "\n",
       "[10 rows x 25 columns]"
      ]
     },
     "execution_count": 11,
     "metadata": {},
     "output_type": "execute_result"
    }
   ],
   "source": [
    "df.loc[df['type']=='service']"
   ]
  },
  {
   "cell_type": "markdown",
   "metadata": {},
   "source": [
    "#### The only two actors who have run `service` actions were Alice and Bob"
   ]
  },
  {
   "cell_type": "code",
   "execution_count": 12,
   "metadata": {},
   "outputs": [
    {
     "data": {
      "text/plain": [
       "array(['Alice', 'Bob'], dtype=object)"
      ]
     },
     "execution_count": 12,
     "metadata": {},
     "output_type": "execute_result"
    }
   ],
   "source": [
    "df.loc[df['type']=='service']['actor'].unique()"
   ]
  },
  {
   "cell_type": "markdown",
   "metadata": {},
   "source": [
    "#### For now I'm only interested in the proper messages (not the actions)... let's see if we can get some insights"
   ]
  },
  {
   "cell_type": "code",
   "execution_count": 13,
   "metadata": {},
   "outputs": [
    {
     "data": {
      "text/html": [
       "<div>\n",
       "<style scoped>\n",
       "    .dataframe tbody tr th:only-of-type {\n",
       "        vertical-align: middle;\n",
       "    }\n",
       "\n",
       "    .dataframe tbody tr th {\n",
       "        vertical-align: top;\n",
       "    }\n",
       "\n",
       "    .dataframe thead th {\n",
       "        text-align: right;\n",
       "    }\n",
       "</style>\n",
       "<table border=\"1\" class=\"dataframe\">\n",
       "  <thead>\n",
       "    <tr style=\"text-align: right;\">\n",
       "      <th></th>\n",
       "      <th>id</th>\n",
       "      <th>type</th>\n",
       "      <th>date</th>\n",
       "      <th>actor</th>\n",
       "      <th>actor_id</th>\n",
       "      <th>action</th>\n",
       "      <th>title</th>\n",
       "      <th>members</th>\n",
       "      <th>text</th>\n",
       "      <th>from</th>\n",
       "      <th>...</th>\n",
       "      <th>width</th>\n",
       "      <th>height</th>\n",
       "      <th>mime_type</th>\n",
       "      <th>duration_seconds</th>\n",
       "      <th>via_bot</th>\n",
       "      <th>photo</th>\n",
       "      <th>reply_to_message_id</th>\n",
       "      <th>forwarded_from</th>\n",
       "      <th>message_id</th>\n",
       "      <th>edited</th>\n",
       "    </tr>\n",
       "  </thead>\n",
       "  <tbody>\n",
       "    <tr>\n",
       "      <th>9593</th>\n",
       "      <td>24997</td>\n",
       "      <td>message</td>\n",
       "      <td>2020-04-23T11:14:02</td>\n",
       "      <td>NaN</td>\n",
       "      <td>NaN</td>\n",
       "      <td>NaN</td>\n",
       "      <td>NaN</td>\n",
       "      <td>NaN</td>\n",
       "      <td>Medio los limpiaron a todos</td>\n",
       "      <td>Alice</td>\n",
       "      <td>...</td>\n",
       "      <td>NaN</td>\n",
       "      <td>NaN</td>\n",
       "      <td>NaN</td>\n",
       "      <td>NaN</td>\n",
       "      <td>NaN</td>\n",
       "      <td>NaN</td>\n",
       "      <td>NaN</td>\n",
       "      <td>NaN</td>\n",
       "      <td>NaN</td>\n",
       "      <td>NaN</td>\n",
       "    </tr>\n",
       "    <tr>\n",
       "      <th>14174</th>\n",
       "      <td>29732</td>\n",
       "      <td>message</td>\n",
       "      <td>2020-05-26T13:53:53</td>\n",
       "      <td>NaN</td>\n",
       "      <td>NaN</td>\n",
       "      <td>NaN</td>\n",
       "      <td>NaN</td>\n",
       "      <td>NaN</td>\n",
       "      <td>llegue del laburo</td>\n",
       "      <td>Alice</td>\n",
       "      <td>...</td>\n",
       "      <td>NaN</td>\n",
       "      <td>NaN</td>\n",
       "      <td>NaN</td>\n",
       "      <td>NaN</td>\n",
       "      <td>NaN</td>\n",
       "      <td>NaN</td>\n",
       "      <td>NaN</td>\n",
       "      <td>NaN</td>\n",
       "      <td>NaN</td>\n",
       "      <td>NaN</td>\n",
       "    </tr>\n",
       "    <tr>\n",
       "      <th>18201</th>\n",
       "      <td>34089</td>\n",
       "      <td>message</td>\n",
       "      <td>2020-06-18T10:41:37</td>\n",
       "      <td>NaN</td>\n",
       "      <td>NaN</td>\n",
       "      <td>NaN</td>\n",
       "      <td>NaN</td>\n",
       "      <td>NaN</td>\n",
       "      <td>Doppelkeks jajjaja</td>\n",
       "      <td>Alice</td>\n",
       "      <td>...</td>\n",
       "      <td>NaN</td>\n",
       "      <td>NaN</td>\n",
       "      <td>NaN</td>\n",
       "      <td>NaN</td>\n",
       "      <td>NaN</td>\n",
       "      <td>NaN</td>\n",
       "      <td>NaN</td>\n",
       "      <td>NaN</td>\n",
       "      <td>NaN</td>\n",
       "      <td>NaN</td>\n",
       "    </tr>\n",
       "    <tr>\n",
       "      <th>15144</th>\n",
       "      <td>30716</td>\n",
       "      <td>message</td>\n",
       "      <td>2020-05-30T21:21:30</td>\n",
       "      <td>NaN</td>\n",
       "      <td>NaN</td>\n",
       "      <td>NaN</td>\n",
       "      <td>NaN</td>\n",
       "      <td>NaN</td>\n",
       "      <td>WHY???</td>\n",
       "      <td>Bob</td>\n",
       "      <td>...</td>\n",
       "      <td>NaN</td>\n",
       "      <td>NaN</td>\n",
       "      <td>NaN</td>\n",
       "      <td>NaN</td>\n",
       "      <td>NaN</td>\n",
       "      <td>NaN</td>\n",
       "      <td>NaN</td>\n",
       "      <td>NaN</td>\n",
       "      <td>NaN</td>\n",
       "      <td>NaN</td>\n",
       "    </tr>\n",
       "    <tr>\n",
       "      <th>14969</th>\n",
       "      <td>30541</td>\n",
       "      <td>message</td>\n",
       "      <td>2020-05-30T14:32:16</td>\n",
       "      <td>NaN</td>\n",
       "      <td>NaN</td>\n",
       "      <td>NaN</td>\n",
       "      <td>NaN</td>\n",
       "      <td>NaN</td>\n",
       "      <td>esta bastante bien, tbh</td>\n",
       "      <td>Bob</td>\n",
       "      <td>...</td>\n",
       "      <td>NaN</td>\n",
       "      <td>NaN</td>\n",
       "      <td>NaN</td>\n",
       "      <td>NaN</td>\n",
       "      <td>NaN</td>\n",
       "      <td>NaN</td>\n",
       "      <td>NaN</td>\n",
       "      <td>NaN</td>\n",
       "      <td>NaN</td>\n",
       "      <td>NaN</td>\n",
       "    </tr>\n",
       "  </tbody>\n",
       "</table>\n",
       "<p>5 rows × 25 columns</p>\n",
       "</div>"
      ],
      "text/plain": [
       "          id     type                 date actor  actor_id action title  \\\n",
       "9593   24997  message  2020-04-23T11:14:02   NaN       NaN    NaN   NaN   \n",
       "14174  29732  message  2020-05-26T13:53:53   NaN       NaN    NaN   NaN   \n",
       "18201  34089  message  2020-06-18T10:41:37   NaN       NaN    NaN   NaN   \n",
       "15144  30716  message  2020-05-30T21:21:30   NaN       NaN    NaN   NaN   \n",
       "14969  30541  message  2020-05-30T14:32:16   NaN       NaN    NaN   NaN   \n",
       "\n",
       "      members                         text   from  ...  width height  \\\n",
       "9593      NaN  Medio los limpiaron a todos  Alice  ...    NaN    NaN   \n",
       "14174     NaN            llegue del laburo  Alice  ...    NaN    NaN   \n",
       "18201     NaN           Doppelkeks jajjaja  Alice  ...    NaN    NaN   \n",
       "15144     NaN                       WHY???    Bob  ...    NaN    NaN   \n",
       "14969     NaN      esta bastante bien, tbh    Bob  ...    NaN    NaN   \n",
       "\n",
       "      mime_type duration_seconds via_bot  photo  reply_to_message_id  \\\n",
       "9593        NaN              NaN     NaN    NaN                  NaN   \n",
       "14174       NaN              NaN     NaN    NaN                  NaN   \n",
       "18201       NaN              NaN     NaN    NaN                  NaN   \n",
       "15144       NaN              NaN     NaN    NaN                  NaN   \n",
       "14969       NaN              NaN     NaN    NaN                  NaN   \n",
       "\n",
       "      forwarded_from  message_id edited  \n",
       "9593             NaN         NaN    NaN  \n",
       "14174            NaN         NaN    NaN  \n",
       "18201            NaN         NaN    NaN  \n",
       "15144            NaN         NaN    NaN  \n",
       "14969            NaN         NaN    NaN  \n",
       "\n",
       "[5 rows x 25 columns]"
      ]
     },
     "execution_count": 13,
     "metadata": {},
     "output_type": "execute_result"
    }
   ],
   "source": [
    "msg_df= df.loc[df['type']=='message']\n",
    "msg_df.sample(5)"
   ]
  },
  {
   "cell_type": "markdown",
   "metadata": {},
   "source": [
    "#### Seems the DataFrame is pretty sparse... counting should make things easier. We've got over 22k `text` messages. That is A LOT! We'll have to come back to further explore this"
   ]
  },
  {
   "cell_type": "code",
   "execution_count": 14,
   "metadata": {},
   "outputs": [
    {
     "data": {
      "text/plain": [
       "22722"
      ]
     },
     "execution_count": 14,
     "metadata": {},
     "output_type": "execute_result"
    }
   ],
   "source": [
    "message_count=msg_df.count()\n",
    "message_count=message_count[message_count != 0] # filter out zero values\n",
    "message_count['text']"
   ]
  },
  {
   "cell_type": "markdown",
   "metadata": {},
   "source": [
    "### For now, we'll be taking a closer look at the non-text-based message count"
   ]
  },
  {
   "cell_type": "code",
   "execution_count": 15,
   "metadata": {},
   "outputs": [
    {
     "data": {
      "text/plain": [
       "<matplotlib.axes._subplots.AxesSubplot at 0x7f4c8bbc4198>"
      ]
     },
     "execution_count": 15,
     "metadata": {},
     "output_type": "execute_result"
    },
    {
     "data": {
      "image/png": "[encoded data removed]",
      "text/plain": [
       "<Figure size 432x288 with 1 Axes>"
      ]
     },
     "metadata": {},
     "output_type": "display_data"
    }
   ],
   "source": [
    "#dropping `text` messages and other columns that don't show interesting information\n",
    "message_count_plot= message_count.drop(labels=['id','type','text','from','from_id','date','height','width'])\n",
    "message_count_plot.plot.barh()"
   ]
  },
  {
   "cell_type": "markdown",
   "metadata": {},
   "source": [
    "#### Some insights:\n",
    "* We don't edit many of our messages after being sent\n",
    "* We don't ussually forward messages\n",
    "* We reply a lot of messages!\n",
    "* We share a lot of images!\n",
    "* We have a couple of bots\n",
    "* The total amount of time in audio messages is relatively short\n",
    "* We don't usually send a single emoji as a message\n",
    "* We've shared over 300 files"
   ]
  },
  {
   "cell_type": "markdown",
   "metadata": {},
   "source": [
    "##### Let's take a closer look at some of those insights..."
   ]
  },
  {
   "cell_type": "code",
   "execution_count": 16,
   "metadata": {},
   "outputs": [
    {
     "data": {
      "text/html": [
       "<div>\n",
       "<style scoped>\n",
       "    .dataframe tbody tr th:only-of-type {\n",
       "        vertical-align: middle;\n",
       "    }\n",
       "\n",
       "    .dataframe tbody tr th {\n",
       "        vertical-align: top;\n",
       "    }\n",
       "\n",
       "    .dataframe thead th {\n",
       "        text-align: right;\n",
       "    }\n",
       "</style>\n",
       "<table border=\"1\" class=\"dataframe\">\n",
       "  <thead>\n",
       "    <tr style=\"text-align: right;\">\n",
       "      <th></th>\n",
       "      <th>date</th>\n",
       "      <th>reply_to_message_id</th>\n",
       "      <th>from</th>\n",
       "    </tr>\n",
       "  </thead>\n",
       "  <tbody>\n",
       "    <tr>\n",
       "      <th>105</th>\n",
       "      <td>2019-05-05T16:17:09</td>\n",
       "      <td>11939.0</td>\n",
       "      <td>Alice</td>\n",
       "    </tr>\n",
       "    <tr>\n",
       "      <th>138</th>\n",
       "      <td>2019-05-20T17:03:29</td>\n",
       "      <td>12019.0</td>\n",
       "      <td>Alice</td>\n",
       "    </tr>\n",
       "    <tr>\n",
       "      <th>143</th>\n",
       "      <td>2019-05-24T20:49:20</td>\n",
       "      <td>12249.0</td>\n",
       "      <td>bot</td>\n",
       "    </tr>\n",
       "    <tr>\n",
       "      <th>148</th>\n",
       "      <td>2019-05-24T20:50:54</td>\n",
       "      <td>12254.0</td>\n",
       "      <td>bot</td>\n",
       "    </tr>\n",
       "    <tr>\n",
       "      <th>150</th>\n",
       "      <td>2019-05-24T23:09:11</td>\n",
       "      <td>12257.0</td>\n",
       "      <td>bot</td>\n",
       "    </tr>\n",
       "    <tr>\n",
       "      <th>...</th>\n",
       "      <td>...</td>\n",
       "      <td>...</td>\n",
       "      <td>...</td>\n",
       "    </tr>\n",
       "    <tr>\n",
       "      <th>22568</th>\n",
       "      <td>2020-07-10T19:28:00</td>\n",
       "      <td>38597.0</td>\n",
       "      <td>Bob</td>\n",
       "    </tr>\n",
       "    <tr>\n",
       "      <th>22601</th>\n",
       "      <td>2020-07-10T19:45:43</td>\n",
       "      <td>38660.0</td>\n",
       "      <td>Alice</td>\n",
       "    </tr>\n",
       "    <tr>\n",
       "      <th>22618</th>\n",
       "      <td>2020-07-10T19:48:21</td>\n",
       "      <td>38678.0</td>\n",
       "      <td>Alice</td>\n",
       "    </tr>\n",
       "    <tr>\n",
       "      <th>22682</th>\n",
       "      <td>2020-07-11T11:23:58</td>\n",
       "      <td>38732.0</td>\n",
       "      <td>Trudy</td>\n",
       "    </tr>\n",
       "    <tr>\n",
       "      <th>22701</th>\n",
       "      <td>2020-07-11T12:45:20</td>\n",
       "      <td>38762.0</td>\n",
       "      <td>Alice</td>\n",
       "    </tr>\n",
       "  </tbody>\n",
       "</table>\n",
       "<p>1203 rows × 3 columns</p>\n",
       "</div>"
      ],
      "text/plain": [
       "                      date  reply_to_message_id   from\n",
       "105    2019-05-05T16:17:09              11939.0  Alice\n",
       "138    2019-05-20T17:03:29              12019.0  Alice\n",
       "143    2019-05-24T20:49:20              12249.0    bot\n",
       "148    2019-05-24T20:50:54              12254.0    bot\n",
       "150    2019-05-24T23:09:11              12257.0    bot\n",
       "...                    ...                  ...    ...\n",
       "22568  2020-07-10T19:28:00              38597.0    Bob\n",
       "22601  2020-07-10T19:45:43              38660.0  Alice\n",
       "22618  2020-07-10T19:48:21              38678.0  Alice\n",
       "22682  2020-07-11T11:23:58              38732.0  Trudy\n",
       "22701  2020-07-11T12:45:20              38762.0  Alice\n",
       "\n",
       "[1203 rows x 3 columns]"
      ]
     },
     "execution_count": 16,
     "metadata": {},
     "output_type": "execute_result"
    }
   ],
   "source": [
    "reply_df= msg_df[['date','reply_to_message_id','from']].dropna()\n",
    "reply_df"
   ]
  },
  {
   "cell_type": "code",
   "execution_count": 17,
   "metadata": {},
   "outputs": [
    {
     "data": {
      "text/html": [
       "<div>\n",
       "<style scoped>\n",
       "    .dataframe tbody tr th:only-of-type {\n",
       "        vertical-align: middle;\n",
       "    }\n",
       "\n",
       "    .dataframe tbody tr th {\n",
       "        vertical-align: top;\n",
       "    }\n",
       "\n",
       "    .dataframe thead th {\n",
       "        text-align: right;\n",
       "    }\n",
       "</style>\n",
       "<table border=\"1\" class=\"dataframe\">\n",
       "  <thead>\n",
       "    <tr style=\"text-align: right;\">\n",
       "      <th></th>\n",
       "      <th>reply</th>\n",
       "      <th>from</th>\n",
       "      <th>orig_msg</th>\n",
       "      <th>delta</th>\n",
       "    </tr>\n",
       "  </thead>\n",
       "  <tbody>\n",
       "    <tr>\n",
       "      <th>0</th>\n",
       "      <td>2019-05-05T16:17:09</td>\n",
       "      <td>Alice</td>\n",
       "      <td>2019-05-05T16:15:49</td>\n",
       "      <td>00:01:20</td>\n",
       "    </tr>\n",
       "    <tr>\n",
       "      <th>1</th>\n",
       "      <td>2019-05-20T17:03:29</td>\n",
       "      <td>Alice</td>\n",
       "      <td>2019-05-20T14:33:27</td>\n",
       "      <td>02:30:02</td>\n",
       "    </tr>\n",
       "    <tr>\n",
       "      <th>2</th>\n",
       "      <td>2019-05-24T20:49:20</td>\n",
       "      <td>bot</td>\n",
       "      <td>2019-05-24T20:49:20</td>\n",
       "      <td>00:00:00</td>\n",
       "    </tr>\n",
       "    <tr>\n",
       "      <th>3</th>\n",
       "      <td>2019-05-24T20:50:54</td>\n",
       "      <td>bot</td>\n",
       "      <td>2019-05-24T20:50:53</td>\n",
       "      <td>00:00:01</td>\n",
       "    </tr>\n",
       "    <tr>\n",
       "      <th>4</th>\n",
       "      <td>2019-05-24T23:09:11</td>\n",
       "      <td>bot</td>\n",
       "      <td>2019-05-24T23:09:10</td>\n",
       "      <td>00:00:01</td>\n",
       "    </tr>\n",
       "    <tr>\n",
       "      <th>...</th>\n",
       "      <td>...</td>\n",
       "      <td>...</td>\n",
       "      <td>...</td>\n",
       "      <td>...</td>\n",
       "    </tr>\n",
       "    <tr>\n",
       "      <th>1198</th>\n",
       "      <td>2020-07-10T19:28:00</td>\n",
       "      <td>Bob</td>\n",
       "      <td>2020-07-10T19:24:46</td>\n",
       "      <td>00:03:14</td>\n",
       "    </tr>\n",
       "    <tr>\n",
       "      <th>1199</th>\n",
       "      <td>2020-07-10T19:45:43</td>\n",
       "      <td>Alice</td>\n",
       "      <td>2020-07-10T19:45:33</td>\n",
       "      <td>00:00:10</td>\n",
       "    </tr>\n",
       "    <tr>\n",
       "      <th>1200</th>\n",
       "      <td>2020-07-10T19:48:21</td>\n",
       "      <td>Alice</td>\n",
       "      <td>2020-07-10T19:48:02</td>\n",
       "      <td>00:00:19</td>\n",
       "    </tr>\n",
       "    <tr>\n",
       "      <th>1201</th>\n",
       "      <td>2020-07-11T11:23:58</td>\n",
       "      <td>Trudy</td>\n",
       "      <td>2020-07-11T10:47:56</td>\n",
       "      <td>00:36:02</td>\n",
       "    </tr>\n",
       "    <tr>\n",
       "      <th>1202</th>\n",
       "      <td>2020-07-11T12:45:20</td>\n",
       "      <td>Alice</td>\n",
       "      <td>2020-07-11T12:44:39</td>\n",
       "      <td>00:00:41</td>\n",
       "    </tr>\n",
       "  </tbody>\n",
       "</table>\n",
       "<p>1203 rows × 4 columns</p>\n",
       "</div>"
      ],
      "text/plain": [
       "                    reply   from             orig_msg    delta\n",
       "0     2019-05-05T16:17:09  Alice  2019-05-05T16:15:49 00:01:20\n",
       "1     2019-05-20T17:03:29  Alice  2019-05-20T14:33:27 02:30:02\n",
       "2     2019-05-24T20:49:20    bot  2019-05-24T20:49:20 00:00:00\n",
       "3     2019-05-24T20:50:54    bot  2019-05-24T20:50:53 00:00:01\n",
       "4     2019-05-24T23:09:11    bot  2019-05-24T23:09:10 00:00:01\n",
       "...                   ...    ...                  ...      ...\n",
       "1198  2020-07-10T19:28:00    Bob  2020-07-10T19:24:46 00:03:14\n",
       "1199  2020-07-10T19:45:43  Alice  2020-07-10T19:45:33 00:00:10\n",
       "1200  2020-07-10T19:48:21  Alice  2020-07-10T19:48:02 00:00:19\n",
       "1201  2020-07-11T11:23:58  Trudy  2020-07-11T10:47:56 00:36:02\n",
       "1202  2020-07-11T12:45:20  Alice  2020-07-11T12:44:39 00:00:41\n",
       "\n",
       "[1203 rows x 4 columns]"
      ]
     },
     "execution_count": 17,
     "metadata": {},
     "output_type": "execute_result"
    }
   ],
   "source": [
    "#some pandas-fu to create a df with the indexed dates for the replies\n",
    "reply_df= pd.merge(reply_df.rename(columns={'reply_to_message_id': 'id'}),\n",
    "        df[['reply_to_message_id','id','date']],\n",
    "        on='id').rename(columns={'date_x': 'reply','date_y':'orig_msg'})[['reply','from','orig_msg']]\n",
    "reply_df['delta']=pd.to_datetime(reply_df['reply']) - pd.to_datetime(reply_df['orig_msg']) #calculating the time delta\n",
    "reply_df"
   ]
  },
  {
   "cell_type": "markdown",
   "metadata": {},
   "source": [
    "#### Now, let's plot each participant's delta time for replying."
   ]
  },
  {
   "cell_type": "code",
   "execution_count": 18,
   "metadata": {},
   "outputs": [
    {
     "data": {
      "image/png": "[encoded data removed]",
      "text/plain": [
       "<Figure size 432x288 with 1 Axes>"
      ]
     },
     "metadata": {},
     "output_type": "display_data"
    },
    {
     "data": {
      "image/png": "[encoded data removed]",
      "text/plain": [
       "<Figure size 432x288 with 1 Axes>"
      ]
     },
     "metadata": {},
     "output_type": "display_data"
    },
    {
     "data": {
      "image/png": "[encoded data removed]",
      "text/plain": [
       "<Figure size 432x288 with 1 Axes>"
      ]
     },
     "metadata": {},
     "output_type": "display_data"
    },
    {
     "data": {
      "image/png": "[encoded data removed]",
      "text/plain": [
       "<Figure size 432x288 with 1 Axes>"
      ]
     },
     "metadata": {},
     "output_type": "display_data"
    },
    {
     "data": {
      "image/png": "[encoded data removed]",
      "text/plain": [
       "<Figure size 432x288 with 1 Axes>"
      ]
     },
     "metadata": {},
     "output_type": "display_data"
    }
   ],
   "source": [
    "for friend in reply_df['from'].unique():\n",
    "    reply_df.loc[reply_df['from']==friend].plot( y='delta',title=friend)"
   ]
  },
  {
   "cell_type": "markdown",
   "metadata": {},
   "source": [
    "##### Apparently:\n",
    "* `Alice` replies a lot, but takes several minutes to do so\n",
    "* at some point the `bot` had an issue, but ussually replies instantly\n",
    "* `Bob` has some seasonality, meaning every now and then he'll take his time\n",
    "* `Trudy`doesn't take much time to reply, for the most part\n",
    "* `Eve` doesn't reply much"
   ]
  },
  {
   "cell_type": "markdown",
   "metadata": {},
   "source": [
    "### Let's move on to the next feature... Images!"
   ]
  },
  {
   "cell_type": "markdown",
   "metadata": {},
   "source": [
    "##### Apparently, Telegram embeds the date on the file-name... kind of redundant if you ask me (?)"
   ]
  },
  {
   "cell_type": "code",
   "execution_count": 19,
   "metadata": {},
   "outputs": [
    {
     "data": {
      "text/html": [
       "<div>\n",
       "<style scoped>\n",
       "    .dataframe tbody tr th:only-of-type {\n",
       "        vertical-align: middle;\n",
       "    }\n",
       "\n",
       "    .dataframe tbody tr th {\n",
       "        vertical-align: top;\n",
       "    }\n",
       "\n",
       "    .dataframe thead th {\n",
       "        text-align: right;\n",
       "    }\n",
       "</style>\n",
       "<table border=\"1\" class=\"dataframe\">\n",
       "  <thead>\n",
       "    <tr style=\"text-align: right;\">\n",
       "      <th></th>\n",
       "      <th>date</th>\n",
       "      <th>photo</th>\n",
       "      <th>from</th>\n",
       "    </tr>\n",
       "  </thead>\n",
       "  <tbody>\n",
       "    <tr>\n",
       "      <th>11398</th>\n",
       "      <td>2020-05-06T11:25:58</td>\n",
       "      <td>photos/photo_600@06-05-2020_11-25-58.jpg</td>\n",
       "      <td>Bob</td>\n",
       "    </tr>\n",
       "    <tr>\n",
       "      <th>11718</th>\n",
       "      <td>2020-05-08T21:21:42</td>\n",
       "      <td>photos/photo_618@08-05-2020_21-21-42.jpg</td>\n",
       "      <td>Bob</td>\n",
       "    </tr>\n",
       "    <tr>\n",
       "      <th>20413</th>\n",
       "      <td>2020-07-01T09:02:20</td>\n",
       "      <td>photos/photo_1011@01-07-2020_09-02-20.jpg</td>\n",
       "      <td>Bob</td>\n",
       "    </tr>\n",
       "    <tr>\n",
       "      <th>16957</th>\n",
       "      <td>2020-06-10T18:57:16</td>\n",
       "      <td>photos/photo_840@10-06-2020_18-57-16.jpg</td>\n",
       "      <td>Bob</td>\n",
       "    </tr>\n",
       "    <tr>\n",
       "      <th>2124</th>\n",
       "      <td>2020-03-01T12:37:33</td>\n",
       "      <td>photos/photo_97@01-03-2020_12-37-33.jpg</td>\n",
       "      <td>Bob</td>\n",
       "    </tr>\n",
       "  </tbody>\n",
       "</table>\n",
       "</div>"
      ],
      "text/plain": [
       "                      date                                      photo from\n",
       "11398  2020-05-06T11:25:58   photos/photo_600@06-05-2020_11-25-58.jpg  Bob\n",
       "11718  2020-05-08T21:21:42   photos/photo_618@08-05-2020_21-21-42.jpg  Bob\n",
       "20413  2020-07-01T09:02:20  photos/photo_1011@01-07-2020_09-02-20.jpg  Bob\n",
       "16957  2020-06-10T18:57:16   photos/photo_840@10-06-2020_18-57-16.jpg  Bob\n",
       "2124   2020-03-01T12:37:33    photos/photo_97@01-03-2020_12-37-33.jpg  Bob"
      ]
     },
     "execution_count": 19,
     "metadata": {},
     "output_type": "execute_result"
    }
   ],
   "source": [
    "images_df= msg_df[['date','photo','from']].dropna()\n",
    "images_df.sample(5)"
   ]
  },
  {
   "cell_type": "markdown",
   "metadata": {},
   "source": [
    "#### Counting the images sent by group member and...Well, well, well! It would seem like Bob is a pretty visual guy... "
   ]
  },
  {
   "cell_type": "code",
   "execution_count": 20,
   "metadata": {},
   "outputs": [
    {
     "data": {
      "text/plain": [
       "<matplotlib.axes._subplots.AxesSubplot at 0x7f4c891b2e80>"
      ]
     },
     "execution_count": 20,
     "metadata": {},
     "output_type": "execute_result"
    },
    {
     "data": {
      "image/png": "[encoded data removed]",
      "text/plain": [
       "<Figure size 432x288 with 1 Axes>"
      ]
     },
     "metadata": {},
     "output_type": "display_data"
    }
   ],
   "source": [
    "sns.countplot(x='from', data=images_df)"
   ]
  },
  {
   "cell_type": "markdown",
   "metadata": {},
   "source": [
    "#### Let's see the actual distribution of images sent by Bob over time"
   ]
  },
  {
   "cell_type": "code",
   "execution_count": 21,
   "metadata": {},
   "outputs": [
    {
     "data": {
      "text/plain": [
       "<matplotlib.axes._subplots.AxesSubplot at 0x7f4c892b62e8>"
      ]
     },
     "execution_count": 21,
     "metadata": {},
     "output_type": "execute_result"
    },
    {
     "data": {
      "image/png": "[encoded data removed]",
      "text/plain": [
       "<Figure size 432x288 with 1 Axes>"
      ]
     },
     "metadata": {},
     "output_type": "display_data"
    }
   ],
   "source": [
    "#images_df.sort_values(by=\"month\", inplace=True)\n",
    "month_names = [\"Jan\", \"Feb\", \"Mar\", \"Apr\", \"May\", \"Jun\", \"Jul\", \"Aug\", \"Sep\", \"Oct\", \"Nov\", \"Dec\"]\n",
    "months = images_df[\"date\"].apply(lambda date: month_names[int(date.split(\"-\")[1])-1])\n",
    "\n",
    "images_df['month']=months\n",
    "bob_images_df= images_df.loc[images_df['from']=='Bob']\n",
    "\n",
    "sns.countplot(x='month', data=bob_images_df)"
   ]
  },
  {
   "cell_type": "markdown",
   "metadata": {},
   "source": [
    "##### looks like Bob alternates between months whith little to no activity and others when he sends over 175 pictures per month"
   ]
  },
  {
   "cell_type": "markdown",
   "metadata": {},
   "source": [
    "### What about files? We've shared over 350 files over the past two years, that sounds like a lot"
   ]
  },
  {
   "cell_type": "code",
   "execution_count": 22,
   "metadata": {},
   "outputs": [
    {
     "data": {
      "text/html": [
       "<div>\n",
       "<style scoped>\n",
       "    .dataframe tbody tr th:only-of-type {\n",
       "        vertical-align: middle;\n",
       "    }\n",
       "\n",
       "    .dataframe tbody tr th {\n",
       "        vertical-align: top;\n",
       "    }\n",
       "\n",
       "    .dataframe thead th {\n",
       "        text-align: right;\n",
       "    }\n",
       "</style>\n",
       "<table border=\"1\" class=\"dataframe\">\n",
       "  <thead>\n",
       "    <tr style=\"text-align: right;\">\n",
       "      <th></th>\n",
       "      <th>date</th>\n",
       "      <th>file</th>\n",
       "      <th>from</th>\n",
       "    </tr>\n",
       "  </thead>\n",
       "  <tbody>\n",
       "    <tr>\n",
       "      <th>1</th>\n",
       "      <td>2018-02-24T10:44:15</td>\n",
       "      <td>stickers/sticker.webp</td>\n",
       "      <td>Alice</td>\n",
       "    </tr>\n",
       "    <tr>\n",
       "      <th>4</th>\n",
       "      <td>2018-02-24T10:44:57</td>\n",
       "      <td>stickers/sticker (1).webp</td>\n",
       "      <td>Alice</td>\n",
       "    </tr>\n",
       "    <tr>\n",
       "      <th>6</th>\n",
       "      <td>2018-02-24T10:46:19</td>\n",
       "      <td>video_files/animation.gif.mp4</td>\n",
       "      <td>Alice</td>\n",
       "    </tr>\n",
       "    <tr>\n",
       "      <th>8</th>\n",
       "      <td>2018-02-24T10:47:14</td>\n",
       "      <td>video_files/giphy.mp4</td>\n",
       "      <td>Alice</td>\n",
       "    </tr>\n",
       "    <tr>\n",
       "      <th>15</th>\n",
       "      <td>2018-02-24T10:49:02</td>\n",
       "      <td>video_files/giphy (1).mp4</td>\n",
       "      <td>Trudy</td>\n",
       "    </tr>\n",
       "    <tr>\n",
       "      <th>...</th>\n",
       "      <td>...</td>\n",
       "      <td>...</td>\n",
       "      <td>...</td>\n",
       "    </tr>\n",
       "    <tr>\n",
       "      <th>22288</th>\n",
       "      <td>2020-07-10T09:18:22</td>\n",
       "      <td>stickers/sticker (46).webp</td>\n",
       "      <td>Alice</td>\n",
       "    </tr>\n",
       "    <tr>\n",
       "      <th>22315</th>\n",
       "      <td>2020-07-10T12:29:20</td>\n",
       "      <td>video_files/mp4 (28).mp4</td>\n",
       "      <td>Bob</td>\n",
       "    </tr>\n",
       "    <tr>\n",
       "      <th>22316</th>\n",
       "      <td>2020-07-10T12:31:15</td>\n",
       "      <td>video_files/animation (26).gif.mp4</td>\n",
       "      <td>Alice</td>\n",
       "    </tr>\n",
       "    <tr>\n",
       "      <th>22671</th>\n",
       "      <td>2020-07-11T10:48:13</td>\n",
       "      <td>video_files/mp4 (29).mp4</td>\n",
       "      <td>Bob</td>\n",
       "    </tr>\n",
       "    <tr>\n",
       "      <th>22687</th>\n",
       "      <td>2020-07-11T12:36:32</td>\n",
       "      <td>video_files/mp4 (30).mp4</td>\n",
       "      <td>Bob</td>\n",
       "    </tr>\n",
       "  </tbody>\n",
       "</table>\n",
       "<p>360 rows × 3 columns</p>\n",
       "</div>"
      ],
      "text/plain": [
       "                      date                                file   from\n",
       "1      2018-02-24T10:44:15               stickers/sticker.webp  Alice\n",
       "4      2018-02-24T10:44:57           stickers/sticker (1).webp  Alice\n",
       "6      2018-02-24T10:46:19       video_files/animation.gif.mp4  Alice\n",
       "8      2018-02-24T10:47:14               video_files/giphy.mp4  Alice\n",
       "15     2018-02-24T10:49:02           video_files/giphy (1).mp4  Trudy\n",
       "...                    ...                                 ...    ...\n",
       "22288  2020-07-10T09:18:22          stickers/sticker (46).webp  Alice\n",
       "22315  2020-07-10T12:29:20            video_files/mp4 (28).mp4    Bob\n",
       "22316  2020-07-10T12:31:15  video_files/animation (26).gif.mp4  Alice\n",
       "22671  2020-07-11T10:48:13            video_files/mp4 (29).mp4    Bob\n",
       "22687  2020-07-11T12:36:32            video_files/mp4 (30).mp4    Bob\n",
       "\n",
       "[360 rows x 3 columns]"
      ]
     },
     "execution_count": 22,
     "metadata": {},
     "output_type": "execute_result"
    }
   ],
   "source": [
    "file_df= df[['date','file','from']].dropna()\n",
    "file_df"
   ]
  },
  {
   "cell_type": "markdown",
   "metadata": {},
   "source": [
    "#### Oh... now I get it! At a glance, most of the files are gif and animations... that makes sense, right?\n",
    "##### Let's explore this a bit further"
   ]
  },
  {
   "cell_type": "code",
   "execution_count": 23,
   "metadata": {},
   "outputs": [
    {
     "data": {
      "image/png": "[encoded data removed]",
      "text/plain": [
       "<Figure size 432x288 with 1 Axes>"
      ]
     },
     "metadata": {},
     "output_type": "display_data"
    }
   ],
   "source": [
    "files_sent=file_df['file'].unique()\n",
    "file_types=defaultdict(int)\n",
    "for f in files_sent:\n",
    "    file_types[f.split('.')[-1]]+=1\n",
    "\n",
    "plt.bar(list(file_types.keys()),file_types.values(), color='g')\n",
    "plt.show()"
   ]
  },
  {
   "cell_type": "markdown",
   "metadata": {},
   "source": [
    "##### That was unexpected... there are a lot of audio files `.ogg` that I was not considering."
   ]
  },
  {
   "cell_type": "markdown",
   "metadata": {},
   "source": [
    "#### So... The majority of the files shared were animations and audio files, let's see who's been the most active sharing files"
   ]
  },
  {
   "cell_type": "code",
   "execution_count": 24,
   "metadata": {},
   "outputs": [
    {
     "data": {
      "text/plain": [
       "<matplotlib.axes._subplots.AxesSubplot at 0x7f4c89254e80>"
      ]
     },
     "execution_count": 24,
     "metadata": {},
     "output_type": "execute_result"
    },
    {
     "data": {
      "image/png": "[encoded data removed]",
      "text/plain": [
       "<Figure size 432x288 with 1 Axes>"
      ]
     },
     "metadata": {},
     "output_type": "display_data"
    }
   ],
   "source": [
    "sns.countplot(x='from', data=file_df)"
   ]
  },
  {
   "cell_type": "markdown",
   "metadata": {},
   "source": [
    "#### Once again, Bob proves he is the most visual member of the group when he sent twice as many gifs as Alice"
   ]
  },
  {
   "cell_type": "code",
   "execution_count": 25,
   "metadata": {},
   "outputs": [],
   "source": [
    "#TODO:\n",
    "# Explore the `text` based messages (22k messages should be the most juicy data)\n",
    "# Show a word cloud for the most used words\n",
    "# analyze individual's activity from text-based messages"
   ]
  },
  {
   "cell_type": "code",
   "execution_count": null,
   "metadata": {},
   "outputs": [],
   "source": []
  },
  {
   "cell_type": "code",
   "execution_count": null,
   "metadata": {},
   "outputs": [],
   "source": []
  },
  {
   "cell_type": "code",
   "execution_count": null,
   "metadata": {},
   "outputs": [],
   "source": []
  },
  {
   "cell_type": "code",
   "execution_count": null,
   "metadata": {},
   "outputs": [],
   "source": []
  },
  {
   "cell_type": "code",
   "execution_count": null,
   "metadata": {},
   "outputs": [],
   "source": []
  },
  {
   "cell_type": "code",
   "execution_count": null,
   "metadata": {},
   "outputs": [],
   "source": []
  },
  {
   "cell_type": "code",
   "execution_count": null,
   "metadata": {},
   "outputs": [],
   "source": []
  },
  {
   "cell_type": "code",
   "execution_count": null,
   "metadata": {},
   "outputs": [],
   "source": []
  },
  {
   "cell_type": "code",
   "execution_count": null,
   "metadata": {},
   "outputs": [],
   "source": []
  },
  {
   "cell_type": "code",
   "execution_count": null,
   "metadata": {},
   "outputs": [],
   "source": []
  },
  {
   "cell_type": "code",
   "execution_count": null,
   "metadata": {},
   "outputs": [],
   "source": []
  },
  {
   "cell_type": "code",
   "execution_count": null,
   "metadata": {},
   "outputs": [],
   "source": []
  },
  {
   "cell_type": "code",
   "execution_count": null,
   "metadata": {},
   "outputs": [],
   "source": []
  },
  {
   "cell_type": "code",
   "execution_count": null,
   "metadata": {},
   "outputs": [],
   "source": []
  },
  {
   "cell_type": "code",
   "execution_count": null,
   "metadata": {},
   "outputs": [],
   "source": []
  },
  {
   "cell_type": "code",
   "execution_count": null,
   "metadata": {},
   "outputs": [],
   "source": []
  }
 ],
 "metadata": {
  "kernelspec": {
   "display_name": "Python 3",
   "language": "python",
   "name": "python3"
  },
  "language_info": {
   "codemirror_mode": {
    "name": "ipython",
    "version": 3
   },
   "file_extension": ".py",
   "mimetype": "text/x-python",
   "name": "python",
   "nbconvert_exporter": "python",
   "pygments_lexer": "ipython3",
   "version": "3.6.9"
  }
 },
 "nbformat": 4,
 "nbformat_minor": 2
}
